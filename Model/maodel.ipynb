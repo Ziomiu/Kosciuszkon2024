{
 "cells": [
  {
   "cell_type": "code",
   "execution_count": 28,
   "metadata": {},
   "outputs": [],
   "source": [
    "import tensorflow as tf\n",
    "from tensorflow import keras\n",
    "from keras import models\n",
    "from keras import layers\n",
    "import matplotlib.pyplot as plt\n",
    "import cv2\n",
    "import numpy as np\n",
    "import os"
   ]
  },
  {
   "cell_type": "code",
   "execution_count": 35,
   "metadata": {},
   "outputs": [],
   "source": [
    "def prepare_img(image_path):\n",
    "    # print(image_path)\n",
    "    img = cv2.imread(image_path,cv2.IMREAD_GRAYSCALE)\n",
    "    # print(img.size)\n",
    "    img = cv2.resize(img, (150, 150))\n",
    "    img = img / 255.0\n",
    "    return img\n",
    "\n",
    "def load_data(path):\n",
    "    data = []\n",
    "    file_names = os.listdir(path)\n",
    "    # print(file_names)\n",
    "    for name in file_names:\n",
    "        data.append(prepare_img(os.path.join(path,name)))\n",
    "    \n",
    "\n",
    "\n",
    "    return np.array(data)\n"
   ]
  },
  {
   "cell_type": "code",
   "execution_count": 81,
   "metadata": {},
   "outputs": [
    {
     "name": "stderr",
     "output_type": "stream",
     "text": [
      "c:\\Users\\klonl\\AppData\\Local\\Programs\\Python\\Python310\\lib\\site-packages\\keras\\src\\layers\\convolutional\\base_conv.py:107: UserWarning: Do not pass an `input_shape`/`input_dim` argument to a layer. When using Sequential models, prefer using an `Input(shape)` object as the first layer in the model instead.\n",
      "  super().__init__(activity_regularizer=activity_regularizer, **kwargs)\n"
     ]
    }
   ],
   "source": [
    "# model = models.Sequential([\n",
    "#     layers.Conv2D(32, (3, 3), activation='relu'),\n",
    "#     layers.MaxPooling2D((2, 2)),\n",
    "#     layers.Conv2D(64, (3, 3), activation='relu'),\n",
    "#     layers.MaxPooling2D((2, 2)),\n",
    "#     layers.Conv2D(128, (3, 3), activation='relu'),\n",
    "#     layers.MaxPooling2D((2, 2)),\n",
    "#     layers.Flatten(),\n",
    "#     layers.Dense(512, activation='relu'),\n",
    "#     layers.Dropout(0.5),\n",
    "#     layers.Dense(1, activation='sigmoid')\n",
    "\n",
    "# ])\n",
    "\n",
    "\n",
    "classifier = models.Sequential()\n",
    "classifier.add(layers.Conv2D(32, (3, 3), input_shape = (150, 150, 3), activation = 'relu'))\n",
    "classifier.add(layers.MaxPooling2D(pool_size = (2, 2)))\n",
    "classifier.add(layers.Conv2D(32, (3, 3), activation = 'relu'))\n",
    "classifier.add(layers.MaxPooling2D(pool_size=(2, 2)))\n",
    "classifier.add(layers.Conv2D(64, (3, 3), activation = 'relu'))\n",
    "classifier.add(layers.MaxPooling2D(pool_size=(2, 2)))\n",
    "classifier.add(layers.Flatten())\n",
    "classifier.add(layers.Dense(units = 64, activation = 'relu'))\n",
    "classifier.add(layers.Dropout(0.5))\n",
    "classifier.add(layers.Dense(1))\n",
    "classifier.add(layers.Activation('sigmoid'))\n",
    "\n",
    "classifier.compile(optimizer=keras.optimizers.Adam(learning_rate=0.001), loss='binary_crossentropy', metrics=['accuracy'])"
   ]
  },
  {
   "cell_type": "code",
   "execution_count": 84,
   "metadata": {},
   "outputs": [
    {
     "name": "stdout",
     "output_type": "stream",
     "text": [
      "Found 3194 images belonging to 2 classes.\n",
      "Found 3469 images belonging to 2 classes.\n"
     ]
    }
   ],
   "source": [
    "train_datagen = keras.preprocessing.image.ImageDataGenerator(rescale = 1./255,\n",
    "                                   shear_range = 0.2,\n",
    "                                   zoom_range = 0.2,\n",
    "                                   horizontal_flip = True)\n",
    "\n",
    "test_datagen = keras.preprocessing.image.ImageDataGenerator(rescale = 1./255)\n",
    "\n",
    "\n",
    "training_set = train_datagen.flow_from_directory(\"C:\\\\Users\\\\klonl\\\\Kosciuszkon\\\\archive\\\\Plastic Bottle Image Dataset\\\\train\\\\\",\n",
    "                                                 target_size = (150, 150),\n",
    "                                                 batch_size = 32,\n",
    "                                                 class_mode = \"binary\")\n",
    "test_set = test_datagen.flow_from_directory(\"C:\\\\Users\\\\klonl\\\\Kosciuszkon\\\\archive\\\\Plastic Bottle Image Dataset\\\\test\\\\\",\n",
    "                                                 target_size = (150, 150),\n",
    "                                                 batch_size = 32,\n",
    "                                                 class_mode = \"binary\")\n"
   ]
  },
  {
   "cell_type": "code",
   "execution_count": 85,
   "metadata": {},
   "outputs": [
    {
     "name": "stdout",
     "output_type": "stream",
     "text": [
      "Epoch 1/10\n",
      "\u001b[1m100/100\u001b[0m \u001b[32m━━━━━━━━━━━━━━━━━━━━\u001b[0m\u001b[37m\u001b[0m \u001b[1m49s\u001b[0m 454ms/step - accuracy: 0.5916 - loss: 10.2493\n",
      "Epoch 2/10\n",
      "\u001b[1m100/100\u001b[0m \u001b[32m━━━━━━━━━━━━━━━━━━━━\u001b[0m\u001b[37m\u001b[0m \u001b[1m41s\u001b[0m 393ms/step - accuracy: 0.7411 - loss: 0.5538\n",
      "Epoch 3/10\n",
      "\u001b[1m100/100\u001b[0m \u001b[32m━━━━━━━━━━━━━━━━━━━━\u001b[0m\u001b[37m\u001b[0m \u001b[1m42s\u001b[0m 391ms/step - accuracy: 0.7723 - loss: 0.4941\n",
      "Epoch 4/10\n",
      "\u001b[1m100/100\u001b[0m \u001b[32m━━━━━━━━━━━━━━━━━━━━\u001b[0m\u001b[37m\u001b[0m \u001b[1m42s\u001b[0m 397ms/step - accuracy: 0.7928 - loss: 0.4381\n",
      "Epoch 5/10\n",
      "\u001b[1m100/100\u001b[0m \u001b[32m━━━━━━━━━━━━━━━━━━━━\u001b[0m\u001b[37m\u001b[0m \u001b[1m42s\u001b[0m 399ms/step - accuracy: 0.8285 - loss: 0.4169\n",
      "Epoch 6/10\n",
      "\u001b[1m100/100\u001b[0m \u001b[32m━━━━━━━━━━━━━━━━━━━━\u001b[0m\u001b[37m\u001b[0m \u001b[1m43s\u001b[0m 405ms/step - accuracy: 0.8654 - loss: 0.3738\n",
      "Epoch 7/10\n",
      "\u001b[1m100/100\u001b[0m \u001b[32m━━━━━━━━━━━━━━━━━━━━\u001b[0m\u001b[37m\u001b[0m \u001b[1m44s\u001b[0m 414ms/step - accuracy: 0.8860 - loss: 0.3321\n",
      "Epoch 8/10\n",
      "\u001b[1m100/100\u001b[0m \u001b[32m━━━━━━━━━━━━━━━━━━━━\u001b[0m\u001b[37m\u001b[0m \u001b[1m45s\u001b[0m 422ms/step - accuracy: 0.8860 - loss: 0.3457\n",
      "Epoch 9/10\n",
      "\u001b[1m100/100\u001b[0m \u001b[32m━━━━━━━━━━━━━━━━━━━━\u001b[0m\u001b[37m\u001b[0m \u001b[1m43s\u001b[0m 410ms/step - accuracy: 0.9003 - loss: 0.3013\n",
      "Epoch 10/10\n",
      "\u001b[1m100/100\u001b[0m \u001b[32m━━━━━━━━━━━━━━━━━━━━\u001b[0m\u001b[37m\u001b[0m \u001b[1m43s\u001b[0m 406ms/step - accuracy: 0.8978 - loss: 0.2889\n"
     ]
    }
   ],
   "source": [
    "history = classifier.fit(training_set, epochs=10)"
   ]
  },
  {
   "cell_type": "code",
   "execution_count": 106,
   "metadata": {},
   "outputs": [
    {
     "name": "stdout",
     "output_type": "stream",
     "text": [
      "\u001b[1m1/1\u001b[0m \u001b[32m━━━━━━━━━━━━━━━━━━━━\u001b[0m\u001b[37m\u001b[0m \u001b[1m0s\u001b[0m 26ms/step\n",
      "Nie butelka\n"
     ]
    }
   ],
   "source": [
    "test_im = keras.preprocessing.image.load_img(\"C:\\\\Users\\\\klonl\\\\OneDrive\\\\Obrazy\\\\Z aparatu\\\\puchav3.jpg\",target_size=(150,150))\n",
    "test_im = keras.preprocessing.image.img_to_array(test_im)\n",
    "test_im = np.expand_dims(test_im, axis = 0)\n",
    "print(\"Butelka\" if classifier.predict(test_im)[0,0] == 1 else \"Nie butelka\")\n"
   ]
  },
  {
   "cell_type": "code",
   "execution_count": 107,
   "metadata": {},
   "outputs": [],
   "source": [
    "classifier.save('exported_model.keras')"
   ]
  }
 ],
 "metadata": {
  "kernelspec": {
   "display_name": "Python 3",
   "language": "python",
   "name": "python3"
  },
  "language_info": {
   "codemirror_mode": {
    "name": "ipython",
    "version": 3
   },
   "file_extension": ".py",
   "mimetype": "text/x-python",
   "name": "python",
   "nbconvert_exporter": "python",
   "pygments_lexer": "ipython3",
   "version": "3.10.7"
  }
 },
 "nbformat": 4,
 "nbformat_minor": 2
}
